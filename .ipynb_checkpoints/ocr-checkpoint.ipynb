{
 "cells": [
  {
   "cell_type": "markdown",
   "id": "8e1dd486",
   "metadata": {},
   "source": [
    "## install pytesseract\n",
    "    pip install pytesseract\n",
    "## install opencv\n",
    "    pip install opencv-python"
   ]
  },
  {
   "cell_type": "markdown",
   "id": "31b2d76c",
   "metadata": {},
   "source": [
    "# import all dependencies"
   ]
  },
  {
   "cell_type": "code",
   "execution_count": 2,
   "id": "632af662",
   "metadata": {},
   "outputs": [],
   "source": [
    "import pytesseract\n",
    "import cv2 as cv\n",
    "import numpy as np"
   ]
  },
  {
   "cell_type": "markdown",
   "id": "d6318def",
   "metadata": {},
   "source": [
    "# Basic Image to text approach"
   ]
  },
  {
   "cell_type": "code",
   "execution_count": 48,
   "id": "7eef41f7",
   "metadata": {},
   "outputs": [],
   "source": [
    "# read image file \n",
    "img = cv.imread(cv.samples.findFile(\"images/image.png\"))\n"
   ]
  },
  {
   "cell_type": "code",
   "execution_count": null,
   "id": "154ddf25",
   "metadata": {},
   "outputs": [],
   "source": [
    "#dispay image read\n",
    "cv.imshow(\"Image\", img)\n",
    "k = cv.waitKey(0)"
   ]
  },
  {
   "cell_type": "code",
   "execution_count": null,
   "id": "b141895e",
   "metadata": {},
   "outputs": [],
   "source": [
    "#closes windows opened\n",
    "cv.destroyAllWindows()"
   ]
  },
  {
   "cell_type": "code",
   "execution_count": 3,
   "id": "34e7f3ce",
   "metadata": {},
   "outputs": [],
   "source": [
    "#path of tesseract\n",
    "pytesseract.pytesseract.tesseract_cmd=r'C:\\Program Files\\Tesseract-OCR\\tesseract.exe'"
   ]
  },
  {
   "cell_type": "code",
   "execution_count": 45,
   "id": "8746d294",
   "metadata": {},
   "outputs": [],
   "source": [
    "text = pytesseract.image_to_string(img)"
   ]
  },
  {
   "cell_type": "code",
   "execution_count": 46,
   "id": "b31fd176",
   "metadata": {
    "scrolled": true
   },
   "outputs": [
    {
     "name": "stdout",
     "output_type": "stream",
     "text": [
      "This is a lot of 12 point text to test the\n",
      "ocr code and see if it works on all types\n",
      "of file format.\n",
      "\n",
      "The quick brown dog jumped over the\n",
      "lazy fox. The quick brown dog jumped\n",
      "over the lazy fox. The quick brown dog\n",
      "jumped over the lazy fox. The quick\n",
      "brown dog jumped over the lazy fox.\n",
      "\f",
      "\n"
     ]
    }
   ],
   "source": [
    "print(text)"
   ]
  },
  {
   "cell_type": "markdown",
   "id": "a8d5c45c",
   "metadata": {},
   "source": [
    "# Audible text"
   ]
  },
  {
   "cell_type": "code",
   "execution_count": 70,
   "id": "31187a2a",
   "metadata": {},
   "outputs": [],
   "source": [
    "from gtts import gTTS\n",
    "import os"
   ]
  },
  {
   "cell_type": "code",
   "execution_count": 71,
   "id": "e7ae5c81",
   "metadata": {},
   "outputs": [],
   "source": [
    "language = 'en'\n",
    "\n",
    "outObj = gTTS(text=text, lang=language, slow=False)"
   ]
  },
  {
   "cell_type": "code",
   "execution_count": 74,
   "id": "c4d621ad",
   "metadata": {},
   "outputs": [],
   "source": [
    "outObj.save(\"audio/first_audio.mp3\")"
   ]
  },
  {
   "cell_type": "code",
   "execution_count": 75,
   "id": "4da5004e",
   "metadata": {},
   "outputs": [],
   "source": [
    "os.startfile('first_audio.mp3')"
   ]
  },
  {
   "cell_type": "code",
   "execution_count": null,
   "id": "6947940c",
   "metadata": {},
   "outputs": [],
   "source": [
    "from pytesseract import Output\n",
    "import re\n",
    "d = pytesseract.image_to_data(img, output_type=Output.DICT)\n",
    "keys = list(d.keys())\n",
    "keys"
   ]
  },
  {
   "cell_type": "code",
   "execution_count": 77,
   "id": "606a6aa5",
   "metadata": {},
   "outputs": [],
   "source": [
    "cancer_image = cv.imread(cv.samples.findFile(\"images/cancer.jpg\"))"
   ]
  },
  {
   "cell_type": "code",
   "execution_count": null,
   "id": "79c6ef67",
   "metadata": {},
   "outputs": [],
   "source": [
    "cv.imshow(\"cancer awareness\", cancer_image)\n",
    "k = cv.waitKey(0)"
   ]
  },
  {
   "cell_type": "code",
   "execution_count": 86,
   "id": "31150fca",
   "metadata": {},
   "outputs": [],
   "source": [
    "text = pytesseract.image_to_string(cancer_image)"
   ]
  },
  {
   "cell_type": "code",
   "execution_count": 102,
   "id": "c7aebed5",
   "metadata": {},
   "outputs": [
    {
     "data": {
      "text/plain": [
       "['8:00am', '12:00pm', '12:00pm', '5:00pm']"
      ]
     },
     "execution_count": 102,
     "metadata": {},
     "output_type": "execute_result"
    }
   ],
   "source": [
    "# get time from image\n",
    "re.findall(r'\\s(\\d+\\:\\d+\\s?(?:AM|PM|am|pm))', text)"
   ]
  },
  {
   "cell_type": "code",
   "execution_count": 88,
   "id": "36fcd608",
   "metadata": {},
   "outputs": [
    {
     "name": "stdout",
     "output_type": "stream",
     "text": [
      " \n",
      "\n",
      "{ Life oki eam | |\n",
      "\n",
      "CANCEP\n",
      "\n",
      "AWARENESS\n",
      "\n",
      "AND SCREENING\n",
      "\n",
      "anh\n",
      "November\n",
      "\n",
      "Sonnidom House Advantage Place\n",
      "8:00am 12:00pm 12:00pm 5:00pm\n",
      "\n",
      "Lent\n",
      "\n",
      "turatabl\n",
      "\f",
      "\n"
     ]
    }
   ],
   "source": [
    "print(text)"
   ]
  },
  {
   "cell_type": "code",
   "execution_count": 104,
   "id": "28b595b6",
   "metadata": {},
   "outputs": [],
   "source": [
    "party_flyer = cv.imread(cv.samples.findFile(\"images/party.jpg\"))"
   ]
  },
  {
   "cell_type": "code",
   "execution_count": null,
   "id": "f06ceee0",
   "metadata": {},
   "outputs": [],
   "source": [
    "cv.imshow(\"cancer awareness\", party_flyer)\n",
    "k = cv.waitKey(0)"
   ]
  },
  {
   "cell_type": "code",
   "execution_count": null,
   "id": "6e7e286f",
   "metadata": {},
   "outputs": [],
   "source": [
    "text = pytesseract.image_to_string(party_flyer)\n",
    "text"
   ]
  },
  {
   "cell_type": "markdown",
   "id": "1ba454ba",
   "metadata": {},
   "source": [
    "# Getting boxes around text"
   ]
  },
  {
   "cell_type": "code",
   "execution_count": 9,
   "id": "10750668",
   "metadata": {},
   "outputs": [
    {
     "name": "stdout",
     "output_type": "stream",
     "text": [
      "dict_keys(['level', 'page_num', 'block_num', 'par_num', 'line_num', 'word_num', 'left', 'top', 'width', 'height', 'conf', 'text'])\n"
     ]
    }
   ],
   "source": [
    "from pytesseract import Output\n",
    "\n",
    "img = cv.imread('images/invoice.jpg')\n",
    "\n",
    "d = pytesseract.image_to_data(img, output_type=Output.DICT)\n",
    "print(d.keys())"
   ]
  },
  {
   "cell_type": "code",
   "execution_count": 20,
   "id": "824f777b",
   "metadata": {},
   "outputs": [
    {
     "data": {
      "text/plain": [
       "-1"
      ]
     },
     "execution_count": 20,
     "metadata": {},
     "output_type": "execute_result"
    }
   ],
   "source": [
    "n_boxes = len(d['text'])\n",
    "for i in range(n_boxes):\n",
    "    if float(d['conf'][i]) > 60:\n",
    "        (x, y, w, h) = (d['left'][i], d['top'][i], d['width'][i], d['height'][i])\n",
    "        img = cv.rectangle(img, (x, y), (x + w, y + h), (0, 255, 0), 2)\n",
    "\n",
    "cv.imshow('img', img)\n",
    "cv.waitKey(0)"
   ]
  },
  {
   "cell_type": "code",
   "execution_count": 56,
   "id": "b24008b8",
   "metadata": {},
   "outputs": [
    {
     "ename": "NameError",
     "evalue": "name 'text' is not defined",
     "output_type": "error",
     "traceback": [
      "\u001b[1;31m---------------------------------------------------------------------------\u001b[0m",
      "\u001b[1;31mNameError\u001b[0m                                 Traceback (most recent call last)",
      "\u001b[1;32m<ipython-input-56-3a537376aa07>\u001b[0m in \u001b[0;36m<module>\u001b[1;34m\u001b[0m\n\u001b[0;32m      9\u001b[0m         \u001b[0mimages_text\u001b[0m\u001b[1;33m.\u001b[0m\u001b[0mappend\u001b[0m\u001b[1;33m(\u001b[0m\u001b[1;34m\"Could not read the image.\"\u001b[0m\u001b[1;33m)\u001b[0m\u001b[1;33m\u001b[0m\u001b[1;33m\u001b[0m\u001b[0m\n\u001b[0;32m     10\u001b[0m     \u001b[1;32melse\u001b[0m\u001b[1;33m:\u001b[0m\u001b[1;33m\u001b[0m\u001b[1;33m\u001b[0m\u001b[0m\n\u001b[1;32m---> 11\u001b[1;33m         \u001b[0mstripped\u001b[0m \u001b[1;33m=\u001b[0m \u001b[0mtext\u001b[0m\u001b[1;33m.\u001b[0m\u001b[0msplit\u001b[0m\u001b[1;33m(\u001b[0m\u001b[1;34m'.'\u001b[0m\u001b[1;33m,\u001b[0m \u001b[1;36m1\u001b[0m\u001b[1;33m)\u001b[0m\u001b[1;33m[\u001b[0m\u001b[1;36m0\u001b[0m\u001b[1;33m]\u001b[0m\u001b[1;33m\u001b[0m\u001b[1;33m\u001b[0m\u001b[0m\n\u001b[0m\u001b[0;32m     12\u001b[0m         \u001b[0mrev\u001b[0m \u001b[1;33m=\u001b[0m \u001b[0mpytesseract\u001b[0m\u001b[1;33m.\u001b[0m\u001b[0mimage_to_string\u001b[0m\u001b[1;33m(\u001b[0m\u001b[0mimg\u001b[0m\u001b[1;33m)\u001b[0m\u001b[1;33m\u001b[0m\u001b[1;33m\u001b[0m\u001b[0m\n\u001b[0;32m     13\u001b[0m         \u001b[0mimages_text\u001b[0m\u001b[1;33m.\u001b[0m\u001b[0mappend\u001b[0m\u001b[1;33m(\u001b[0m\u001b[0mrev\u001b[0m\u001b[1;33m)\u001b[0m\u001b[1;33m\u001b[0m\u001b[1;33m\u001b[0m\u001b[0m\n",
      "\u001b[1;31mNameError\u001b[0m: name 'text' is not defined"
     ]
    }
   ],
   "source": [
    "images_text = []\n",
    "index=[]\n",
    "path='images'\n",
    "imageList = os.listdir(\"images\")\n",
    "\n",
    "for image in imageList:\n",
    "    img = cv.imread(f'{path}/{image}')\n",
    "    if img is None:\n",
    "        images_text.append(\"Could not read the image.\")\n",
    "    else:\n",
    "        image = image.split('.', 1)[0]\n",
    "        rev = pytesseract.image_to_string(img)\n",
    "        images_text.append(rev)\n",
    "        index.append(image)\n"
   ]
  },
  {
   "cell_type": "markdown",
   "id": "9a007703",
   "metadata": {},
   "source": [
    "# convert to dataframe"
   ]
  },
  {
   "cell_type": "code",
   "execution_count": 55,
   "id": "f5e2e63b",
   "metadata": {},
   "outputs": [
    {
     "data": {
      "text/html": [
       "<div>\n",
       "<style scoped>\n",
       "    .dataframe tbody tr th:only-of-type {\n",
       "        vertical-align: middle;\n",
       "    }\n",
       "\n",
       "    .dataframe tbody tr th {\n",
       "        vertical-align: top;\n",
       "    }\n",
       "\n",
       "    .dataframe thead th {\n",
       "        text-align: right;\n",
       "    }\n",
       "</style>\n",
       "<table border=\"1\" class=\"dataframe\">\n",
       "  <thead>\n",
       "    <tr style=\"text-align: right;\">\n",
       "      <th></th>\n",
       "      <th>Review</th>\n",
       "    </tr>\n",
       "  </thead>\n",
       "  <tbody>\n",
       "    <tr>\n",
       "      <th>cancer.jpg</th>\n",
       "      <td>\\n\\n{ Life oki eam | |\\n\\nCANCEP\\n\\nAWARENESS...</td>\n",
       "    </tr>\n",
       "    <tr>\n",
       "      <th>image.png</th>\n",
       "      <td>This is a lot of 12 point text to test the\\noc...</td>\n",
       "    </tr>\n",
       "    <tr>\n",
       "      <th>invoice.jpeg</th>\n",
       "      <td>D. Brawn Manufacture\\n\\nInvoice no, DVT-AX-345...</td>\n",
       "    </tr>\n",
       "    <tr>\n",
       "      <th>invoice.jpg</th>\n",
       "      <td>, Invoice\\n\\nYour Company LLC Address 123, Sta...</td>\n",
       "    </tr>\n",
       "    <tr>\n",
       "      <th>party.jpg</th>\n",
       "      <td>\\n\\n\\ SS\\n\\ END OF YEAR\\na\\n\\nCHRIST\\n\\nPaty:...</td>\n",
       "    </tr>\n",
       "    <tr>\n",
       "      <th>sample.png</th>\n",
       "      <td>Okay so | brought the 32gb version. And honest...</td>\n",
       "    </tr>\n",
       "  </tbody>\n",
       "</table>\n",
       "</div>"
      ],
      "text/plain": [
       "                                                         Review\n",
       "cancer.jpg     \\n\\n{ Life oki eam | |\\n\\nCANCEP\\n\\nAWARENESS...\n",
       "image.png     This is a lot of 12 point text to test the\\noc...\n",
       "invoice.jpeg  D. Brawn Manufacture\\n\\nInvoice no, DVT-AX-345...\n",
       "invoice.jpg   , Invoice\\n\\nYour Company LLC Address 123, Sta...\n",
       "party.jpg      \\n\\n\\ SS\\n\\ END OF YEAR\\na\\n\\nCHRIST\\n\\nPaty:...\n",
       "sample.png    Okay so | brought the 32gb version. And honest..."
      ]
     },
     "execution_count": 55,
     "metadata": {},
     "output_type": "execute_result"
    }
   ],
   "source": [
    "import pandas as pd\n",
    "data = pd.DataFrame(list(images_text), columns=['Review'])\n",
    "data\n",
    "data.index = index\n",
    "\n",
    "data"
   ]
  },
  {
   "cell_type": "code",
   "execution_count": null,
   "id": "8dffa996",
   "metadata": {},
   "outputs": [],
   "source": []
  },
  {
   "cell_type": "code",
   "execution_count": null,
   "id": "1fd8aa4d",
   "metadata": {},
   "outputs": [],
   "source": []
  },
  {
   "cell_type": "code",
   "execution_count": null,
   "id": "c4d7c5ad",
   "metadata": {},
   "outputs": [],
   "source": []
  }
 ],
 "metadata": {
  "kernelspec": {
   "display_name": "Python 3",
   "language": "python",
   "name": "python3"
  },
  "language_info": {
   "codemirror_mode": {
    "name": "ipython",
    "version": 3
   },
   "file_extension": ".py",
   "mimetype": "text/x-python",
   "name": "python",
   "nbconvert_exporter": "python",
   "pygments_lexer": "ipython3",
   "version": "3.8.8"
  }
 },
 "nbformat": 4,
 "nbformat_minor": 5
}
